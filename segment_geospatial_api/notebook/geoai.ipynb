{
 "cells": [
  {
   "cell_type": "code",
   "execution_count": 1,
   "metadata": {},
   "outputs": [],
   "source": [
    "# pip install pystac-client\n",
    "\n",
    "from geoai.download import (\n",
    "    download_naip,\n",
    "    download_overture_buildings,\n",
    "    extract_building_stats,\n",
    ")\n",
    "\n",
    "import pystac_client\n",
    "import planetary_computer\n",
    "import leafmap\n",
    "\n",
    "catalog = pystac_client.Client.open(\n",
    "    \"https://planetarycomputer.microsoft.com/api/stac/v1\",\n",
    "    modifier=planetary_computer.sign_inplace,\n",
    ")\n",
    "\n",
    "# https://planetarycomputer.microsoft.com/docs/quickstarts/reading-stac/"
   ]
  },
  {
   "cell_type": "code",
   "execution_count": 2,
   "metadata": {},
   "outputs": [],
   "source": [
    "bbox = (-76.15741548689954, 43.05635088078997, -76.15648427005196, 43.05692144640927)"
   ]
  },
  {
   "cell_type": "code",
   "execution_count": 3,
   "metadata": {},
   "outputs": [
    {
     "data": {
      "application/vnd.jupyter.widget-view+json": {
       "model_id": "1f3c4ec5c8f043609f9208c17cc5f904",
       "version_major": 2,
       "version_minor": 0
      },
      "text/plain": [
       "Map(center=[43.05635088078997, -76.15741548689954], controls=(ZoomControl(options=['position', 'zoom_in_text',…"
      ]
     },
     "execution_count": 3,
     "metadata": {},
     "output_type": "execute_result"
    }
   ],
   "source": [
    "m = leafmap.Map(center=[43.05635088078997, -76.15741548689954], zoom=16)\n",
    "m.add_basemap(\"Google Satellite\")\n",
    "m"
   ]
  },
  {
   "cell_type": "code",
   "execution_count": 4,
   "metadata": {},
   "outputs": [
    {
     "data": {
      "text/plain": [
       "8"
      ]
     },
     "execution_count": 4,
     "metadata": {},
     "output_type": "execute_result"
    }
   ],
   "source": [
    "time_range = \"2020-12-01/2020-12-31\"\n",
    "\n",
    "search = catalog.search(collections=[\"ms-buildings\"], bbox=bbox, datetime=time_range)\n",
    "items = search.get_all_items()\n",
    "len(items)"
   ]
  },
  {
   "cell_type": "code",
   "execution_count": 9,
   "metadata": {},
   "outputs": [
    {
     "ename": "NameError",
     "evalue": "name 'items' is not defined",
     "output_type": "error",
     "traceback": [
      "\u001b[0;31m---------------------------------------------------------------------------\u001b[0m",
      "\u001b[0;31mNameError\u001b[0m                                 Traceback (most recent call last)",
      "Cell \u001b[0;32mIn[9], line 3\u001b[0m\n\u001b[1;32m      1\u001b[0m \u001b[38;5;28;01mimport\u001b[39;00m\u001b[38;5;250m \u001b[39m\u001b[38;5;21;01mgeopandas\u001b[39;00m\u001b[38;5;250m \u001b[39m\u001b[38;5;28;01mas\u001b[39;00m\u001b[38;5;250m \u001b[39m\u001b[38;5;21;01mgpd\u001b[39;00m\n\u001b[1;32m      2\u001b[0m \u001b[38;5;28;01mimport\u001b[39;00m\u001b[38;5;250m \u001b[39m\u001b[38;5;21;01mfolium\u001b[39;00m\n\u001b[0;32m----> 3\u001b[0m gdf \u001b[38;5;241m=\u001b[39m gpd\u001b[38;5;241m.\u001b[39mread_parquet(\u001b[43mitems\u001b[49m)\n\u001b[1;32m      4\u001b[0m m \u001b[38;5;241m=\u001b[39m folium\u001b[38;5;241m.\u001b[39mMap(location\u001b[38;5;241m=\u001b[39m[gdf\u001b[38;5;241m.\u001b[39mgeometry\u001b[38;5;241m.\u001b[39mcentroid\u001b[38;5;241m.\u001b[39my\u001b[38;5;241m.\u001b[39mmean(), \n\u001b[1;32m      5\u001b[0m                         gdf\u001b[38;5;241m.\u001b[39mgeometry\u001b[38;5;241m.\u001b[39mcentroid\u001b[38;5;241m.\u001b[39mx\u001b[38;5;241m.\u001b[39mmean()],\n\u001b[1;32m      6\u001b[0m                zoom_start\u001b[38;5;241m=\u001b[39m\u001b[38;5;241m10\u001b[39m)\n\u001b[1;32m      8\u001b[0m \u001b[38;5;66;03m# 将 GeoDataFrame 转换为 GeoJSON 并添加到地图\u001b[39;00m\n",
      "\u001b[0;31mNameError\u001b[0m: name 'items' is not defined"
     ]
    }
   ],
   "source": [
    "import geopandas as gpd\n",
    "import folium\n",
    "gdf = gpd.read_parquet(items)\n",
    "m = folium.Map(location=[gdf.geometry.centroid.y.mean(), \n",
    "                        gdf.geometry.centroid.x.mean()],\n",
    "               zoom_start=10)\n",
    "\n",
    "# 将 GeoDataFrame 转换为 GeoJSON 并添加到地图\n",
    "folium.GeoJson(\n",
    "    gdf,\n",
    "    style_function=lambda x: {\n",
    "        'fillColor': '#ffff00',\n",
    "        'color': '#000000',\n",
    "        'weight': 1,\n",
    "        'fillOpacity': 0.5\n",
    "    }\n",
    ").add_to(m)"
   ]
  },
  {
   "cell_type": "code",
   "execution_count": null,
   "metadata": {},
   "outputs": [],
   "source": [
    "downloaded_files = download_naip(\n",
    "    bbox=bbox,\n",
    "    output_dir=\"naip_data\",\n",
    "    max_items=1,\n",
    "    # year=2020,\n",
    ")\n",
    "\n",
    "print(f\"Downloaded {len(downloaded_files)} files.\")"
   ]
  },
  {
   "cell_type": "code",
   "execution_count": null,
   "metadata": {},
   "outputs": [],
   "source": [
    "# Download buildings\n",
    "data_file = download_overture_buildings(\n",
    "    bbox=bbox,\n",
    "    output_file=\"buildings.geojson\",\n",
    "    output_format=\"geojson\",\n",
    "    data_type=\"building\",\n",
    "    verbose=True,\n",
    ")"
   ]
  },
  {
   "cell_type": "code",
   "execution_count": null,
   "metadata": {},
   "outputs": [],
   "source": [
    "if data_file:\n",
    "    stats = extract_building_stats(data_file)\n",
    "    print(stats)"
   ]
  },
  {
   "cell_type": "code",
   "execution_count": null,
   "metadata": {},
   "outputs": [],
   "source": [
    "import os\n",
    "import sys\n",
    "notebook_dir = os.getcwd()  # Gets current working directory\n",
    "project_root = os.path.abspath(os.path.join(notebook_dir, \"..\"))\n",
    "sys.path.append(project_root)\n",
    "\n",
    "import os\n",
    "import leafmap\n"
   ]
  },
  {
   "cell_type": "code",
   "execution_count": null,
   "metadata": {},
   "outputs": [],
   "source": [
    "m = leafmap.Map()\n",
    "m.add_raster(\"naip_data/m_4711720_sw_11_060_20230701_20230911.tif\", layer_name=\"NAIP\")\n",
    "m.add_geojson(\"buildings.geojson\", layer_name=\"Buildings\")\n",
    "m"
   ]
  }
 ],
 "metadata": {
  "kernelspec": {
   "display_name": "geo_new",
   "language": "python",
   "name": "python3"
  },
  "language_info": {
   "codemirror_mode": {
    "name": "ipython",
    "version": 3
   },
   "file_extension": ".py",
   "mimetype": "text/x-python",
   "name": "python",
   "nbconvert_exporter": "python",
   "pygments_lexer": "ipython3",
   "version": "3.13.2"
  }
 },
 "nbformat": 4,
 "nbformat_minor": 2
}

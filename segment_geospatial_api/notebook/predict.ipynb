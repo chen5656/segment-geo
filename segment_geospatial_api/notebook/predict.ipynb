{
 "cells": [
  {
   "cell_type": "code",
   "execution_count": null,
   "metadata": {},
   "outputs": [],
   "source": [
    "import os\n",
    "import sys\n",
    "notebook_dir = os.getcwd()  # Gets current working directory\n",
    "project_root = os.path.abspath(os.path.join(notebook_dir, \"..\"))\n",
    "sys.path.append(project_root)\n",
    "\n",
    "from app.segment_geospatial.predict import predictor\n",
    "import os\n",
    "import leafmap"
   ]
  },
  {
   "cell_type": "code",
   "execution_count": 2,
   "metadata": {},
   "outputs": [],
   "source": [
    "predictor.setup(model_type=\"sam2-hiera-large\")"
   ]
  },
  {
   "cell_type": "code",
   "execution_count": 3,
   "metadata": {},
   "outputs": [],
   "source": [
    "request_data = {\n",
    "  \"bounding_box\": [\n",
    "    -96.77738159894946,\n",
    "    32.78197733203472,\n",
    "    -96.77620947360994,\n",
    "    32.78268991937202\n",
    "  ],\n",
    "  \"text_prompt\": \"car\",\n",
    "  \"zoom_level\": 19\n",
    "}\n",
    "\n",
    "image = \"satellite_1.tif\"\n",
    "bounding_box = request_data[\"bounding_box\"]\n",
    "zoom_level = request_data[\"zoom_level\"]\n",
    "text_prompt = request_data[\"text_prompt\"]"
   ]
  },
  {
   "cell_type": "code",
   "execution_count": null,
   "metadata": {},
   "outputs": [],
   "source": [
    "\n",
    "predictor.download_satellite_image(image_name=image, bounding_box=bounding_box, zoom_level=zoom_level)"
   ]
  },
  {
   "cell_type": "code",
   "execution_count": 5,
   "metadata": {},
   "outputs": [],
   "source": [
    "m = leafmap.Map(center=[ 32.78197733203472, -96.77738159894946], zoom=18, height=\"800px\")\n",
    "m.add_basemap(\"SATELLITE\")"
   ]
  },
  {
   "cell_type": "code",
   "execution_count": null,
   "metadata": {},
   "outputs": [],
   "source": [
    "m.layers[-1].visible = False\n",
    "m.add_raster(image, layer_name=\"Image\")\n",
    "m"
   ]
  },
  {
   "cell_type": "code",
   "execution_count": 18,
   "metadata": {},
   "outputs": [],
   "source": [
    "predictor.sam.predict(\n",
    "                    image, \n",
    "                    text_prompt, \n",
    "                    0.15,  # box_threshold \n",
    "                    0.4  # text_threshold\n",
    "                )"
   ]
  },
  {
   "cell_type": "code",
   "execution_count": null,
   "metadata": {},
   "outputs": [],
   "source": [
    "predictor.sam.show_anns(\n",
    "    cmap=\"Greens\",\n",
    "    box_color=\"red\",\n",
    "    title=f\"Automatic Segmentation of {text_prompt}\",\n",
    "    blend=True,\n",
    ")"
   ]
  }
 ],
 "metadata": {
  "kernelspec": {
   "display_name": "geo_env",
   "language": "python",
   "name": "python3"
  },
  "language_info": {
   "codemirror_mode": {
    "name": "ipython",
    "version": 3
   },
   "file_extension": ".py",
   "mimetype": "text/x-python",
   "name": "python",
   "nbconvert_exporter": "python",
   "pygments_lexer": "ipython3",
   "version": "3.11.11"
  }
 },
 "nbformat": 4,
 "nbformat_minor": 2
}

{
 "cells": [
  {
   "cell_type": "code",
   "execution_count": 32,
   "metadata": {},
   "outputs": [],
   "source": [
    "import pandas as pd\n",
    "import geopandas as gpd\n",
    "import mercantile\n",
    "from tqdm import tqdm\n",
    "import os\n",
    "import tempfile\n",
    "import requests"
   ]
  },
  {
   "cell_type": "code",
   "execution_count": null,
   "metadata": {},
   "outputs": [],
   "source": [
    "def get_bounds(geom):\n",
    "    \"\"\"\n",
    "    Get bounds of a GeoJSON geometry.\n",
    "    \"\"\"\n",
    "    from shapely import geometry\n",
    "    aoi_shape = geometry.shape(aoi_geom)\n",
    "    minx, miny, maxx, maxy = aoi_shape.bounds\n",
    "    return (minx, miny, maxx, maxy)\n",
    "\n",
    "# Geometry copied from https://geojson.io\n",
    "# aoi_geom = {\n",
    "#     \"coordinates\": [\n",
    "#         [\n",
    "#             [-122.16484503187519, 47.69090474454916],\n",
    "#             [-122.16484503187519, 47.6217555345674],\n",
    "#             [-122.06529607517405, 47.6217555345674],\n",
    "#             [-122.06529607517405, 47.69090474454916],\n",
    "#             [-122.16484503187519, 47.69090474454916],\n",
    "#         ]\n",
    "#     ],\n",
    "#     \"type\": \"Polygon\",\n",
    "# }\n",
    "aoi_geom = {\n",
    "    \"coordinates\": [\n",
    "        [\n",
    "            [-76.15741548689954, 43.05692144640927], \n",
    "            [-76.15741548689954, 43.05635088078997],  \n",
    "            [-76.15648427005196, 43.05635088078997],  \n",
    "            [-76.15648427005196, 43.05692144640927],  \n",
    "            [-76.15741548689954, 43.05692144640927], \n",
    "        ]\n",
    "    ],\n",
    "    \"type\": \"Polygon\"\n",
    "}\n",
    "aoi_shape = geometry.shape(aoi_geom)\n",
    "\n",
    "minx, miny, maxx, maxy = aoi_shape.bounds"
   ]
  },
  {
   "cell_type": "code",
   "execution_count": null,
   "metadata": {},
   "outputs": [
    {
     "name": "stdout",
     "output_type": "stream",
     "text": [
      "The input area spans 1 tiles: ['030232211']\n"
     ]
    }
   ],
   "source": [
    "# zoom value 9 to match https://minedbuildings.z5.web.core.windows.net/global-buildings/dataset-links.csv \n",
    "quad_keys = set()\n",
    "for tile in list(mercantile.tiles(minx, miny, maxx, maxy, zooms=9)):\n",
    "    quad_keys.add(mercantile.quadkey(tile))\n",
    "quad_keys = list(quad_keys)\n",
    "print(f\"The input area spans {len(quad_keys)} tiles: {quad_keys}\")"
   ]
  },
  {
   "cell_type": "code",
   "execution_count": 21,
   "metadata": {},
   "outputs": [
    {
     "data": {
      "text/html": [
       "<div>\n",
       "<style scoped>\n",
       "    .dataframe tbody tr th:only-of-type {\n",
       "        vertical-align: middle;\n",
       "    }\n",
       "\n",
       "    .dataframe tbody tr th {\n",
       "        vertical-align: top;\n",
       "    }\n",
       "\n",
       "    .dataframe thead th {\n",
       "        text-align: right;\n",
       "    }\n",
       "</style>\n",
       "<table border=\"1\" class=\"dataframe\">\n",
       "  <thead>\n",
       "    <tr style=\"text-align: right;\">\n",
       "      <th></th>\n",
       "      <th>Location</th>\n",
       "      <th>QuadKey</th>\n",
       "      <th>Url</th>\n",
       "      <th>Size</th>\n",
       "      <th>UploadDate</th>\n",
       "    </tr>\n",
       "  </thead>\n",
       "  <tbody>\n",
       "    <tr>\n",
       "      <th>0</th>\n",
       "      <td>Abyei</td>\n",
       "      <td>122320113</td>\n",
       "      <td>https://minedbuildings.z5.web.core.windows.net...</td>\n",
       "      <td>74.5KB</td>\n",
       "      <td>2025-02-28</td>\n",
       "    </tr>\n",
       "    <tr>\n",
       "      <th>1</th>\n",
       "      <td>Abyei</td>\n",
       "      <td>122320131</td>\n",
       "      <td>https://minedbuildings.z5.web.core.windows.net...</td>\n",
       "      <td>8.3KB</td>\n",
       "      <td>2025-02-28</td>\n",
       "    </tr>\n",
       "    <tr>\n",
       "      <th>2</th>\n",
       "      <td>Abyei</td>\n",
       "      <td>122321002</td>\n",
       "      <td>https://minedbuildings.z5.web.core.windows.net...</td>\n",
       "      <td>392.2KB</td>\n",
       "      <td>2025-02-28</td>\n",
       "    </tr>\n",
       "    <tr>\n",
       "      <th>3</th>\n",
       "      <td>Abyei</td>\n",
       "      <td>122321003</td>\n",
       "      <td>https://minedbuildings.z5.web.core.windows.net...</td>\n",
       "      <td>72.8KB</td>\n",
       "      <td>2025-02-28</td>\n",
       "    </tr>\n",
       "    <tr>\n",
       "      <th>4</th>\n",
       "      <td>Abyei</td>\n",
       "      <td>122321020</td>\n",
       "      <td>https://minedbuildings.z5.web.core.windows.net...</td>\n",
       "      <td>1.2MB</td>\n",
       "      <td>2025-02-28</td>\n",
       "    </tr>\n",
       "  </tbody>\n",
       "</table>\n",
       "</div>"
      ],
      "text/plain": [
       "  Location    QuadKey                                                Url  \\\n",
       "0    Abyei  122320113  https://minedbuildings.z5.web.core.windows.net...   \n",
       "1    Abyei  122320131  https://minedbuildings.z5.web.core.windows.net...   \n",
       "2    Abyei  122321002  https://minedbuildings.z5.web.core.windows.net...   \n",
       "3    Abyei  122321003  https://minedbuildings.z5.web.core.windows.net...   \n",
       "4    Abyei  122321020  https://minedbuildings.z5.web.core.windows.net...   \n",
       "\n",
       "      Size  UploadDate  \n",
       "0   74.5KB  2025-02-28  \n",
       "1    8.3KB  2025-02-28  \n",
       "2  392.2KB  2025-02-28  \n",
       "3   72.8KB  2025-02-28  \n",
       "4    1.2MB  2025-02-28  "
      ]
     },
     "execution_count": 21,
     "metadata": {},
     "output_type": "execute_result"
    }
   ],
   "source": [
    "df = pd.read_csv(\n",
    "    \"https://minedbuildings.z5.web.core.windows.net/global-buildings/dataset-links.csv\", dtype=str\n",
    ")\n",
    "df.head()"
   ]
  },
  {
   "cell_type": "code",
   "execution_count": null,
   "metadata": {},
   "outputs": [
    {
     "name": "stderr",
     "output_type": "stream",
     "text": [
      "  0%|          | 0/1 [00:02<?, ?it/s]\n"
     ]
    },
    {
     "ename": "ValueError",
     "evalue": "Expected object or value",
     "output_type": "error",
     "traceback": [
      "\u001b[0;31m---------------------------------------------------------------------------\u001b[0m",
      "\u001b[0;31mValueError\u001b[0m                                Traceback (most recent call last)",
      "Cell \u001b[0;32mIn[35], line 18\u001b[0m\n\u001b[1;32m     15\u001b[0m \u001b[38;5;28;01mwith\u001b[39;00m \u001b[38;5;28mopen\u001b[39m(json_fn, \u001b[38;5;124m'\u001b[39m\u001b[38;5;124mw\u001b[39m\u001b[38;5;124m'\u001b[39m) \u001b[38;5;28;01mas\u001b[39;00m f:\n\u001b[1;32m     16\u001b[0m     f\u001b[38;5;241m.\u001b[39mwrite(response\u001b[38;5;241m.\u001b[39mtext)\n\u001b[0;32m---> 18\u001b[0m df2 \u001b[38;5;241m=\u001b[39m \u001b[43mpd\u001b[49m\u001b[38;5;241;43m.\u001b[39;49m\u001b[43mread_json\u001b[49m\u001b[43m(\u001b[49m\u001b[43mjson_fn\u001b[49m\u001b[43m,\u001b[49m\u001b[43m \u001b[49m\u001b[43mlines\u001b[49m\u001b[38;5;241;43m=\u001b[39;49m\u001b[38;5;28;43;01mTrue\u001b[39;49;00m\u001b[43m)\u001b[49m\n\u001b[1;32m     19\u001b[0m df2[\u001b[38;5;124m\"\u001b[39m\u001b[38;5;124mgeometry\u001b[39m\u001b[38;5;124m\"\u001b[39m] \u001b[38;5;241m=\u001b[39m df2[\u001b[38;5;124m\"\u001b[39m\u001b[38;5;124mgeometry\u001b[39m\u001b[38;5;124m\"\u001b[39m]\u001b[38;5;241m.\u001b[39mapply(geometry\u001b[38;5;241m.\u001b[39mshape)\n\u001b[1;32m     21\u001b[0m gdf \u001b[38;5;241m=\u001b[39m gpd\u001b[38;5;241m.\u001b[39mGeoDataFrame(df2, crs\u001b[38;5;241m=\u001b[39m\u001b[38;5;241m4326\u001b[39m)\n",
      "File \u001b[0;32m/opt/anaconda3/envs/geo_new/lib/python3.13/site-packages/pandas/io/json/_json.py:815\u001b[0m, in \u001b[0;36mread_json\u001b[0;34m(path_or_buf, orient, typ, dtype, convert_axes, convert_dates, keep_default_dates, precise_float, date_unit, encoding, encoding_errors, lines, chunksize, compression, nrows, storage_options, dtype_backend, engine)\u001b[0m\n\u001b[1;32m    813\u001b[0m     \u001b[38;5;28;01mreturn\u001b[39;00m json_reader\n\u001b[1;32m    814\u001b[0m \u001b[38;5;28;01melse\u001b[39;00m:\n\u001b[0;32m--> 815\u001b[0m     \u001b[38;5;28;01mreturn\u001b[39;00m \u001b[43mjson_reader\u001b[49m\u001b[38;5;241;43m.\u001b[39;49m\u001b[43mread\u001b[49m\u001b[43m(\u001b[49m\u001b[43m)\u001b[49m\n",
      "File \u001b[0;32m/opt/anaconda3/envs/geo_new/lib/python3.13/site-packages/pandas/io/json/_json.py:1023\u001b[0m, in \u001b[0;36mJsonReader.read\u001b[0;34m(self)\u001b[0m\n\u001b[1;32m   1021\u001b[0m         data \u001b[38;5;241m=\u001b[39m ensure_str(\u001b[38;5;28mself\u001b[39m\u001b[38;5;241m.\u001b[39mdata)\n\u001b[1;32m   1022\u001b[0m         data_lines \u001b[38;5;241m=\u001b[39m data\u001b[38;5;241m.\u001b[39msplit(\u001b[38;5;124m\"\u001b[39m\u001b[38;5;130;01m\\n\u001b[39;00m\u001b[38;5;124m\"\u001b[39m)\n\u001b[0;32m-> 1023\u001b[0m         obj \u001b[38;5;241m=\u001b[39m \u001b[38;5;28;43mself\u001b[39;49m\u001b[38;5;241;43m.\u001b[39;49m\u001b[43m_get_object_parser\u001b[49m\u001b[43m(\u001b[49m\u001b[38;5;28;43mself\u001b[39;49m\u001b[38;5;241;43m.\u001b[39;49m\u001b[43m_combine_lines\u001b[49m\u001b[43m(\u001b[49m\u001b[43mdata_lines\u001b[49m\u001b[43m)\u001b[49m\u001b[43m)\u001b[49m\n\u001b[1;32m   1024\u001b[0m \u001b[38;5;28;01melse\u001b[39;00m:\n\u001b[1;32m   1025\u001b[0m     obj \u001b[38;5;241m=\u001b[39m \u001b[38;5;28mself\u001b[39m\u001b[38;5;241m.\u001b[39m_get_object_parser(\u001b[38;5;28mself\u001b[39m\u001b[38;5;241m.\u001b[39mdata)\n",
      "File \u001b[0;32m/opt/anaconda3/envs/geo_new/lib/python3.13/site-packages/pandas/io/json/_json.py:1051\u001b[0m, in \u001b[0;36mJsonReader._get_object_parser\u001b[0;34m(self, json)\u001b[0m\n\u001b[1;32m   1049\u001b[0m obj \u001b[38;5;241m=\u001b[39m \u001b[38;5;28;01mNone\u001b[39;00m\n\u001b[1;32m   1050\u001b[0m \u001b[38;5;28;01mif\u001b[39;00m typ \u001b[38;5;241m==\u001b[39m \u001b[38;5;124m\"\u001b[39m\u001b[38;5;124mframe\u001b[39m\u001b[38;5;124m\"\u001b[39m:\n\u001b[0;32m-> 1051\u001b[0m     obj \u001b[38;5;241m=\u001b[39m \u001b[43mFrameParser\u001b[49m\u001b[43m(\u001b[49m\u001b[43mjson\u001b[49m\u001b[43m,\u001b[49m\u001b[43m \u001b[49m\u001b[38;5;241;43m*\u001b[39;49m\u001b[38;5;241;43m*\u001b[39;49m\u001b[43mkwargs\u001b[49m\u001b[43m)\u001b[49m\u001b[38;5;241;43m.\u001b[39;49m\u001b[43mparse\u001b[49m\u001b[43m(\u001b[49m\u001b[43m)\u001b[49m\n\u001b[1;32m   1053\u001b[0m \u001b[38;5;28;01mif\u001b[39;00m typ \u001b[38;5;241m==\u001b[39m \u001b[38;5;124m\"\u001b[39m\u001b[38;5;124mseries\u001b[39m\u001b[38;5;124m\"\u001b[39m \u001b[38;5;129;01mor\u001b[39;00m obj \u001b[38;5;129;01mis\u001b[39;00m \u001b[38;5;28;01mNone\u001b[39;00m:\n\u001b[1;32m   1054\u001b[0m     \u001b[38;5;28;01mif\u001b[39;00m \u001b[38;5;129;01mnot\u001b[39;00m \u001b[38;5;28misinstance\u001b[39m(dtype, \u001b[38;5;28mbool\u001b[39m):\n",
      "File \u001b[0;32m/opt/anaconda3/envs/geo_new/lib/python3.13/site-packages/pandas/io/json/_json.py:1187\u001b[0m, in \u001b[0;36mParser.parse\u001b[0;34m(self)\u001b[0m\n\u001b[1;32m   1185\u001b[0m \u001b[38;5;129m@final\u001b[39m\n\u001b[1;32m   1186\u001b[0m \u001b[38;5;28;01mdef\u001b[39;00m\u001b[38;5;250m \u001b[39m\u001b[38;5;21mparse\u001b[39m(\u001b[38;5;28mself\u001b[39m):\n\u001b[0;32m-> 1187\u001b[0m     \u001b[38;5;28;43mself\u001b[39;49m\u001b[38;5;241;43m.\u001b[39;49m\u001b[43m_parse\u001b[49m\u001b[43m(\u001b[49m\u001b[43m)\u001b[49m\n\u001b[1;32m   1189\u001b[0m     \u001b[38;5;28;01mif\u001b[39;00m \u001b[38;5;28mself\u001b[39m\u001b[38;5;241m.\u001b[39mobj \u001b[38;5;129;01mis\u001b[39;00m \u001b[38;5;28;01mNone\u001b[39;00m:\n\u001b[1;32m   1190\u001b[0m         \u001b[38;5;28;01mreturn\u001b[39;00m \u001b[38;5;28;01mNone\u001b[39;00m\n",
      "File \u001b[0;32m/opt/anaconda3/envs/geo_new/lib/python3.13/site-packages/pandas/io/json/_json.py:1403\u001b[0m, in \u001b[0;36mFrameParser._parse\u001b[0;34m(self)\u001b[0m\n\u001b[1;32m   1399\u001b[0m orient \u001b[38;5;241m=\u001b[39m \u001b[38;5;28mself\u001b[39m\u001b[38;5;241m.\u001b[39morient\n\u001b[1;32m   1401\u001b[0m \u001b[38;5;28;01mif\u001b[39;00m orient \u001b[38;5;241m==\u001b[39m \u001b[38;5;124m\"\u001b[39m\u001b[38;5;124mcolumns\u001b[39m\u001b[38;5;124m\"\u001b[39m:\n\u001b[1;32m   1402\u001b[0m     \u001b[38;5;28mself\u001b[39m\u001b[38;5;241m.\u001b[39mobj \u001b[38;5;241m=\u001b[39m DataFrame(\n\u001b[0;32m-> 1403\u001b[0m         \u001b[43mujson_loads\u001b[49m\u001b[43m(\u001b[49m\u001b[43mjson\u001b[49m\u001b[43m,\u001b[49m\u001b[43m \u001b[49m\u001b[43mprecise_float\u001b[49m\u001b[38;5;241;43m=\u001b[39;49m\u001b[38;5;28;43mself\u001b[39;49m\u001b[38;5;241;43m.\u001b[39;49m\u001b[43mprecise_float\u001b[49m\u001b[43m)\u001b[49m, dtype\u001b[38;5;241m=\u001b[39m\u001b[38;5;28;01mNone\u001b[39;00m\n\u001b[1;32m   1404\u001b[0m     )\n\u001b[1;32m   1405\u001b[0m \u001b[38;5;28;01melif\u001b[39;00m orient \u001b[38;5;241m==\u001b[39m \u001b[38;5;124m\"\u001b[39m\u001b[38;5;124msplit\u001b[39m\u001b[38;5;124m\"\u001b[39m:\n\u001b[1;32m   1406\u001b[0m     decoded \u001b[38;5;241m=\u001b[39m {\n\u001b[1;32m   1407\u001b[0m         \u001b[38;5;28mstr\u001b[39m(k): v\n\u001b[1;32m   1408\u001b[0m         \u001b[38;5;28;01mfor\u001b[39;00m k, v \u001b[38;5;129;01min\u001b[39;00m ujson_loads(json, precise_float\u001b[38;5;241m=\u001b[39m\u001b[38;5;28mself\u001b[39m\u001b[38;5;241m.\u001b[39mprecise_float)\u001b[38;5;241m.\u001b[39mitems()\n\u001b[1;32m   1409\u001b[0m     }\n",
      "\u001b[0;31mValueError\u001b[0m: Expected object or value"
     ]
    }
   ],
   "source": [
    "idx = 0\n",
    "combined_gdf = gpd.GeoDataFrame()\n",
    "with tempfile.TemporaryDirectory() as tmpdir:\n",
    "    # Download the GeoJSON files for each tile that intersects the input geometry\n",
    "    tmp_fns = []\n",
    "    for quad_key in tqdm(quad_keys):\n",
    "        rows = df[df[\"QuadKey\"] == quad_key]\n",
    "        if rows.shape[0] == 1:\n",
    "            url = rows.iloc[0][\"Url\"]\n",
    "\n",
    "            # Save JSON in the same directory as the notebook\n",
    "            json_fn = os.path.join('/Users/huajunchen/Library/Project/Python/segment-geo/segment_geospatial_api/notebook/global_buildings', f\"{quad_key}_raw.json\")\n",
    "            if not os.path.exists(json_fn):\n",
    "                response = requests.get(url)\n",
    "                # 检查响应状态\n",
    "                response.raise_for_status()\n",
    "                # 验证内容是否为空\n",
    "                if not response.text.strip():\n",
    "                    raise ValueError(f\"Empty response from URL: {url}\")\n",
    "                # 保存原始响应\n",
    "                with open(json_fn, 'w') as f:\n",
    "                    f.write(response.text)\n",
    
    "            # 尝试逐行读取JSON\n",
    "            try:\n",
    "                df2 = pd.read_json(json_fn, lines=True)\n",
    "            except ValueError as e:\n",
    "                print(f\"Error reading {json_fn}: {str(e)}\")\n",
    "                # 如果读取失败，尝试重新下载\n",
    "                response = requests.get(url)\n",
    "                response.raise_for_status()\n",
    "                with open(json_fn, 'w') as f:\n",
    "                    f.write(response.text)\n",
    "                df2 = pd.read_json(json_fn, lines=True)\n",
    "            df2[\"geometry\"] = df2[\"geometry\"].apply(geometry.shape)\n",
    "\n",
    "            gdf = gpd.GeoDataFrame(df2, crs=4326)\n",
    "            fn = os.path.join(tmpdir, f\"{quad_key}.geojson\")\n",
    "            tmp_fns.append(fn)\n",
    "            if not os.path.exists(fn):\n",
    "                gdf.to_file(fn, driver=\"GeoJSON\")\n",
    "        elif rows.shape[0] > 1:\n",
    "            raise ValueError(f\"Multiple rows found for QuadKey: {quad_key}\")\n",
    "        else:\n",
    "            raise ValueError(f\"QuadKey not found in dataset: {quad_key}\")\n",
    "\n",
    "    # Merge the GeoJSON files into a single file\n",
    "    for fn in tmp_fns:\n",
    "        gdf = gpd.read_file(fn)  # Read each file into a GeoDataFrame\n",
    "        gdf = gdf[gdf.geometry.within(aoi_shape)]  # Filter geometries within the AOI\n",
    "        gdf['id'] = range(idx, idx + len(gdf))  # Update 'id' based on idx\n",
    "        idx += len(gdf)\n",
    "        combined_gdf = pd.concat([combined_gdf,gdf],ignore_index=True)"
   ]
  },
  {
   "cell_type": "code",
   "execution_count": 29,
   "metadata": {},
   "outputs": [],
   "source": [
    "output_fn = \"example_building_footprints.geojson\"\n",
    "combined_gdf = combined_gdf.to_crs('EPSG:4326')\n",
    "combined_gdf.to_file(output_fn, driver='GeoJSON')"
   ]
  },
  {
   "cell_type": "code",
   "execution_count": null,
   "metadata": {},
   "outputs": [],
   "source": []
  }
 ],
 "metadata": {
  "kernelspec": {
   "display_name": "geo_new",
   "language": "python",
   "name": "python3"
  },
  "language_info": {
   "codemirror_mode": {
    "name": "ipython",
    "version": 3
   },
   "file_extension": ".py",
   "mimetype": "text/x-python",
   "name": "python",
   "nbconvert_exporter": "python",
   "pygments_lexer": "ipython3",
   "version": "3.13.2"
  }
 },
 "nbformat": 4,
 "nbformat_minor": 2
}

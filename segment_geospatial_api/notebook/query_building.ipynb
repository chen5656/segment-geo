{
 "cells": [
  {
   "cell_type": "code",
   "execution_count": 34,
   "metadata": {},
   "outputs": [],
   "source": [
    "import pandas as pd\n",
    "import geopandas as gpd\n",
    "import mercantile\n",
    "from tqdm import tqdm\n",
    "import tempfile\n",
    "import os\n",
    "from shapely import geometry\n",
    "import time\n",
    "import json"
   ]
  },
  {
   "cell_type": "code",
   "execution_count": 35,
   "metadata": {},
   "outputs": [],
   "source": [
    "aoi_geom = {\n",
    "    \"coordinates\": [\n",
    "        [\n",
    "            [-76.15741548689954, 43.05692144640927], \n",
    "            [-76.15741548689954, 43.05635088078997],  \n",
    "            [-76.15648427005196, 43.05635088078997],  \n",
    "            [-76.15648427005196, 43.05692144640927],  \n",
    "            [-76.15741548689954, 43.05692144640927], \n",
    "        ]\n",
    "    ],\n",
    "    \"type\": \"Polygon\"\n",
    "}\n",
    "aoi_shape = geometry.shape(aoi_geom)\n",
    "\n",
    "minx, miny, maxx, maxy = aoi_shape.bounds\n"
   ]
  },
  {
   "cell_type": "code",
   "execution_count": 36,
   "metadata": {},
   "outputs": [
    {
     "name": "stdout",
     "output_type": "stream",
     "text": [
      "The input area spans 1 tiles: ['030232211']\n"
     ]
    }
   ],
   "source": [
    "# zoom value 9 to match https://minedbuildings.z5.web.core.windows.net/global-buildings/dataset-links.csv \n",
    "quad_keys = set()\n",
    "for tile in list(mercantile.tiles(minx, miny, maxx, maxy, zooms=9)):\n",
    "    quad_keys.add(mercantile.quadkey(tile))\n",
    "quad_keys = list(quad_keys)\n",
    "print(f\"The input area spans {len(quad_keys)} tiles: {quad_keys}\")"
   ]
  },
  {
   "cell_type": "code",
   "execution_count": 37,
   "metadata": {},
   "outputs": [
    {
     "name": "stderr",
     "output_type": "stream",
     "text": [
      "100%|██████████| 1/1 [00:01<00:00,  1.88s/it]"
     ]
    },
    {
     "name": "stdout",
     "output_type": "stream",
     "text": [
      "\n",
      "Total 1 intersect features.\n",
      "Intersecting features saved to: /Users/huajunchen/Library/Project/Python/segment-geo/segment_geospatial_api/notebook/global_buildings/intersecting_features.geojson\n"
     ]
    },
    {
     "name": "stderr",
     "output_type": "stream",
     "text": [
      "\n"
     ]
    }
   ],
   "source": [
    "idx = 0\n",
    "combined_gdf = gpd.GeoDataFrame()\n",
    "data_folder = '/Users/huajunchen/Library/Project/Python/segment-geo/segment_geospatial_api/notebook/global_buildings'\n",
    "\n",
    "intersect_features = [] \n",
    "\n",
    "with tempfile.TemporaryDirectory() as tmpdir:\n",
    "    for quad_key in tqdm(quad_keys):\n",
    "        file_path = os.path.join(data_folder, f'{quad_key}_processed.json')\n",
    "\n",
    "        if os.path.exists(file_path):\n",
    "            gdf = gpd.read_file(file_path)       \n",
    "            \n",
    "            if not gdf.empty:\n",
    "                intersecting = gdf[gdf.intersects(aoi_shape)]\n",
    "                if not intersecting.empty:\n",
    "                    for idx, feature in intersecting.iterrows():\n",
    "                        intersect_features.append(feature)\n",
    "\n",
    "print(f\"\\nTotal {len(intersect_features)} intersect features.\")\n",
    "\n",
    "# Save intersecting features to GeoJSON\n",
    "if intersect_features:\n",
    "    # Create GeoDataFrame from intersecting features\n",
    "    intersect_gdf = gpd.GeoDataFrame(intersect_features, crs=4326)\n",
    "    \n",
    "    # Save to GeoJSON\n",
    "    output_path = os.path.join(data_folder, 'intersecting_features.geojson')\n",
    "    intersect_gdf.to_file(output_path, driver='GeoJSON')\n",
    "    print(f\"Intersecting features saved to: {output_path}\")"
   ]
  }
 ],
 "metadata": {
  "kernelspec": {
   "display_name": "geo_new",
   "language": "python",
   "name": "python3"
  },
  "language_info": {
   "codemirror_mode": {
    "name": "ipython",
    "version": 3
   },
   "file_extension": ".py",
   "mimetype": "text/x-python",
   "name": "python",
   "nbconvert_exporter": "python",
   "pygments_lexer": "ipython3",
   "version": "3.13.2"
  }
 },
 "nbformat": 4,
 "nbformat_minor": 2
}
